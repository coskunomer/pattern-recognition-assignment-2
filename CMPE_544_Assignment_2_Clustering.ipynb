{
  "nbformat": 4,
  "nbformat_minor": 0,
  "metadata": {
    "colab": {
      "provenance": []
    },
    "kernelspec": {
      "name": "python3",
      "display_name": "Python 3"
    },
    "language_info": {
      "name": "python"
    }
  },
  "cells": [
    {
      "cell_type": "code",
      "execution_count": 1,
      "metadata": {
        "colab": {
          "base_uri": "https://localhost:8080/",
          "height": 566
        },
        "id": "D7ToZ5vNlKyg",
        "outputId": "94049759-cc25-4c89-eeaa-0d322198de20"
      },
      "outputs": [
        {
          "output_type": "stream",
          "name": "stdout",
          "text": [
            "(20000, 28, 28)\n",
            "(5000, 28, 28)\n"
          ]
        },
        {
          "output_type": "display_data",
          "data": {
            "text/plain": [
              "<Figure size 1200x300 with 5 Axes>"
            ],
            "image/png": "[encoded data removed]"
          },
          "metadata": {}
        },
        {
          "output_type": "stream",
          "name": "stdout",
          "text": [
            "Training Set Class Counts:\n",
            "Rabbit    : 4000\n",
            "Yoga      : 4000\n",
            "Hand      : 4000\n",
            "Snowman   : 4000\n",
            "Motorbike : 4000\n",
            "\n",
            "Test Set Class Counts:\n",
            "Rabbit    : 1000\n",
            "Yoga      : 1000\n",
            "Hand      : 1000\n",
            "Snowman   : 1000\n",
            "Motorbike : 1000\n",
            "(20000, 588)\n",
            "(5000, 588)\n"
          ]
        }
      ],
      "source": [
        "import numpy as np\n",
        "from skimage.feature import hog\n",
        "from skimage.filters import sobel\n",
        "from scipy.stats import skew, kurtosis\n",
        "import matplotlib.pyplot as plt\n",
        "from collections import Counter\n",
        "from itertools import combinations\n",
        "from scipy.spatial.distance import cdist\n",
        "from collections import Counter\n",
        "from scipy.optimize import linear_sum_assignment\n",
        "from sklearn.metrics import silhouette_score, calinski_harabasz_score, adjusted_rand_score, normalized_mutual_info_score\n",
        "\n",
        "train_images = np.load('train_images.npy')\n",
        "train_labels = np.load('train_labels.npy')\n",
        "test_images = np.load('test_images.npy')\n",
        "test_labels = np.load('test_labels.npy')\n",
        "\n",
        "print(train_images.shape) # (20000, 28, 28)\n",
        "print(test_images.shape) # (5000, 28, 28)\n",
        "\n",
        "## Labels\n",
        "\n",
        "## The integer labels correspond to the following classes:\n",
        "## - 0: rabbit\n",
        "## - 1: yoga\n",
        "## - 2: hand\n",
        "## - 3: snowman\n",
        "## - 4: motorbike\n",
        "\n",
        "class_names = ['Rabbit', 'Yoga', 'Hand', 'Snowman', 'Motorbike']\n",
        "\n",
        "plt.figure(figsize=(12, 3))\n",
        "for class_id in range(5):\n",
        "    indices = np.where(train_labels == class_id)[0]\n",
        "    random_idx = np.random.choice(indices)\n",
        "    plt.subplot(1, 5, class_id + 1)\n",
        "    plt.imshow(train_images[random_idx], cmap='gray')\n",
        "    plt.title(f\"{class_names[class_id]}\")\n",
        "    plt.axis('off')\n",
        "plt.suptitle(\"Random Example from Each Class\")\n",
        "plt.show()\n",
        "\n",
        "train_counts = Counter(train_labels)\n",
        "test_counts = Counter(test_labels)\n",
        "\n",
        "print(\"Training Set Class Counts:\")\n",
        "for i in range(5):\n",
        "    print(f\"{class_names[i]:<10}: {train_counts[i]}\")\n",
        "\n",
        "print(\"\\nTest Set Class Counts:\")\n",
        "for i in range(5):\n",
        "    print(f\"{class_names[i]:<10}: {test_counts[i]}\")\n",
        "\n",
        "def extract_features(images):\n",
        "    features = []\n",
        "    for img in images:\n",
        "        # hog features\n",
        "        hog_features = hog(img, orientations=12, pixels_per_cell=(4, 4), cells_per_block=(1, 1), visualize=False, feature_vector=True)\n",
        "        features.append(hog_features)\n",
        "\n",
        "    return np.array(features)\n",
        "\n",
        "train_features = extract_features(train_images)\n",
        "test_features = extract_features(test_images)\n",
        "\n",
        "print(train_features.shape)\n",
        "print(test_features.shape)"
      ]
    },
    {
      "cell_type": "code",
      "source": [
        "def kmeans(X, k=5, max_iters=100, tol=1e-4, distance='euclidean'):\n",
        "    np.random.seed(42)\n",
        "    n_samples, n_features = X.shape\n",
        "    # Random initialization\n",
        "    indices = np.random.choice(n_samples, k, replace=False)\n",
        "    centroids = X[indices]\n",
        "\n",
        "    for _ in range(max_iters):\n",
        "        distances = cdist(X, centroids, metric=distance)\n",
        "        labels = np.argmin(distances, axis=1)\n",
        "\n",
        "        new_centroids = np.array([X[labels == j].mean(axis=0) if len(X[labels == j]) > 0 else centroids[j]\n",
        "                                  for j in range(k)])\n",
        "\n",
        "        # Stop if centroids do not change much\n",
        "        if np.linalg.norm(centroids - new_centroids) < tol:\n",
        "            break\n",
        "\n",
        "        centroids = new_centroids\n",
        "\n",
        "    return labels, centroids\n",
        "\n",
        "def compute_sse(X, labels, centroids):\n",
        "    sse = 0.0\n",
        "    for i, center in enumerate(centroids):\n",
        "        cluster_points = X[labels == i]\n",
        "        sse += np.sum((cluster_points - center) ** 2)\n",
        "    return sse\n",
        "\n",
        "def clustering_accuracy(y_true, y_pred):\n",
        "    D = max(y_pred.max(), y_true.max()) + 1\n",
        "    cost_matrix = np.zeros((D, D), dtype=int)\n",
        "    for i in range(len(y_pred)):\n",
        "        cost_matrix[y_pred[i], y_true[i]] += 1\n",
        "    row_ind, col_ind = linear_sum_assignment(-cost_matrix)\n",
        "    return sum(cost_matrix[row, col] for row, col in zip(row_ind, col_ind)) / len(y_true)\n",
        "\n",
        "def evaluate_clustering(X, y_true, y_pred, centroids):\n",
        "    sse = compute_sse(X, y_pred, centroids)\n",
        "    acc = clustering_accuracy(y_true, y_pred)\n",
        "    silhouette = silhouette_score(X, y_pred)\n",
        "    ch_score = calinski_harabasz_score(X, y_pred)\n",
        "    ari = adjusted_rand_score(y_true, y_pred)\n",
        "    nmi = normalized_mutual_info_score(y_true, y_pred)\n",
        "    return {\n",
        "        \"SSE\": sse,\n",
        "        \"Accuracy\": acc,\n",
        "        \"Silhouette Score\": silhouette,\n",
        "        \"Calinski-Harabasz\": ch_score,\n",
        "        \"ARI\": ari,\n",
        "        \"NMI\": nmi\n",
        "    }"
      ],
      "metadata": {
        "id": "IqF2HBkY6t_S"
      },
      "execution_count": 3,
      "outputs": []
    },
    {
      "cell_type": "code",
      "source": [
        "results = {}\n",
        "\n",
        "for dist in ['euclidean', 'cityblock', 'cosine']:\n",
        "    print(f\"Clustering with {dist} distance...\")\n",
        "    labels, centers = kmeans(train_features, k=5, distance=dist)\n",
        "    metrics = evaluate_clustering(train_features, train_labels, labels, centers)\n",
        "    results[dist] = metrics\n",
        "    for key, val in metrics.items():\n",
        "        print(f\"{key}: {val:.4f}\")\n",
        "    print(\"-\" * 40)"
      ],
      "metadata": {
        "colab": {
          "base_uri": "https://localhost:8080/"
        },
        "id": "L3tx7Ek695Py",
        "outputId": "9fba99a7-4982-4f4c-91f8-b27e1f71c634"
      },
      "execution_count": 4,
      "outputs": [
        {
          "output_type": "stream",
          "name": "stdout",
          "text": [
            "Clustering with euclidean distance...\n",
            "SSE: 400211.1839\n",
            "Accuracy: 0.5040\n",
            "Silhouette Score: 0.0385\n",
            "Calinski-Harabasz: 604.9172\n",
            "ARI: 0.2375\n",
            "NMI: 0.2815\n",
            "----------------------------------------\n",
            "Clustering with cityblock distance...\n",
            "SSE: 410055.2370\n",
            "Accuracy: 0.5048\n",
            "Silhouette Score: 0.0529\n",
            "Calinski-Harabasz: 470.3919\n",
            "ARI: 0.2069\n",
            "NMI: 0.3097\n",
            "----------------------------------------\n",
            "Clustering with cosine distance...\n",
            "SSE: 400436.0225\n",
            "Accuracy: 0.5089\n",
            "Silhouette Score: 0.0391\n",
            "Calinski-Harabasz: 601.7708\n",
            "ARI: 0.2440\n",
            "NMI: 0.2852\n",
            "----------------------------------------\n"
          ]
        }
      ]
    },
    {
      "cell_type": "code",
      "source": [],
      "metadata": {
        "id": "1ANH_pjm-IoH"
      },
      "execution_count": null,
      "outputs": []
    }
  ]
}